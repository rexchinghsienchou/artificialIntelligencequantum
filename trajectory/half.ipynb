{
 "cells": [
  {
   "cell_type": "code",
   "execution_count": 1,
   "metadata": {
    "collapsed": false
   },
   "outputs": [
    {
     "data": {
      "text/latex": [
       "$$\\sqrt{\\frac{j}{v{\\left (x \\right )}}} e^{\\frac{\\imath}{\\hbar} S{\\left (x \\right )}}$$"
      ],
      "text/plain": [
       "            ⅈ⋅S(x)\n",
       "    ______  ──────\n",
       "   ╱  j       h̅  \n",
       "  ╱  ──── ⋅ℯ      \n",
       "╲╱   v(x)         "
      ]
     },
     "execution_count": 1,
     "metadata": {},
     "output_type": "execute_result"
    }
   ],
   "source": [
    "import sympy\n",
    "flux,position=sympy.symbols('j,x',real=True)\n",
    "mass=sympy.symbols('m',positive=True)\n",
    "velocity,action=map(lambda element:element(position),sympy.symbols('v,S',cls=sympy.Function))\n",
    "for element in velocity,action:element.func.is_real=True\n",
    "wavefunction=sympy.sqrt(flux/velocity)*sympy.exp(sympy.I*action/sympy.symbols('hbar',positive=True))\n",
    "wavefunction"
   ]
  },
  {
   "cell_type": "code",
   "execution_count": 2,
   "metadata": {
    "collapsed": false
   },
   "outputs": [
    {
     "data": {
      "text/latex": [
       "$$\\frac{\\sqrt{\\frac{j}{v{\\left (x \\right )}}} e^{\\frac{\\imath}{\\hbar} S{\\left (x \\right )}}}{\\hbar v{\\left (x \\right )}} \\left(- \\frac{\\hbar}{2} \\frac{d}{d x} v{\\left (x \\right )} + \\imath m v^{2}{\\left (x \\right )}\\right)$$"
      ],
      "text/plain": [
       "           ⎛     d                   ⎞  ⅈ⋅S(x)\n",
       "    ______ ⎜  h̅⋅──(v(x))            ⎟  ──────\n",
       "   ╱  j    ⎜     dx              2   ⎟    h̅  \n",
       "  ╱  ──── ⋅⎜- ─────────── + ⅈ⋅m⋅v (x)⎟⋅ℯ      \n",
       "╲╱   v(x)  ⎝       2                 ⎠        \n",
       "──────────────────────────────────────────────\n",
       "                   h̅⋅v(x)                    "
      ]
     },
     "execution_count": 2,
     "metadata": {},
     "output_type": "execute_result"
    }
   ],
   "source": [
    "a=wavefunction.diff(position).subs(action.diff(position),mass*velocity).simplify()\n",
    "a"
   ]
  },
  {
   "cell_type": "code",
   "execution_count": 3,
   "metadata": {
    "collapsed": false
   },
   "outputs": [
    {
     "data": {
      "text/latex": [
       "$$\\frac{\\sqrt{\\frac{j}{\\frac{d}{d t} x{\\left (t \\right )}}} e^{\\frac{\\imath}{\\hbar} S{\\left (x \\right )}}}{\\hbar \\frac{d}{d t} x{\\left (t \\right )}} \\left(- \\frac{\\hbar \\frac{d^{2}}{d t^{2}}  x{\\left (t \\right )}}{2 \\frac{d}{d t} x{\\left (t \\right )}} + \\imath m \\frac{d}{d t} x{\\left (t \\right )}^{2}\\right)$$"
      ],
      "text/plain": [
       "                 ⎛       2                        ⎞        \n",
       "                 ⎜      d                         ⎟        \n",
       "                 ⎜  h̅⋅───(x(t))                  ⎟  ⅈ⋅S(x)\n",
       "      __________ ⎜       2                       2⎟  ──────\n",
       "     ╱    j      ⎜     dt              ⎛d       ⎞ ⎟    h̅  \n",
       "    ╱  ──────── ⋅⎜- ──────────── + ⅈ⋅m⋅⎜──(x(t))⎟ ⎟⋅ℯ      \n",
       "   ╱   d         ⎜     d               ⎝dt      ⎠ ⎟        \n",
       "  ╱    ──(x(t))  ⎜   2⋅──(x(t))                   ⎟        \n",
       "╲╱     dt        ⎝     dt                         ⎠        \n",
       "───────────────────────────────────────────────────────────\n",
       "                           d                               \n",
       "                        h̅⋅──(x(t))                        \n",
       "                           dt                              "
      ]
     },
     "execution_count": 3,
     "metadata": {},
     "output_type": "execute_result"
    }
   ],
   "source": [
    "time=sympy.symbols('t',real=True)\n",
    "positionFunction=sympy.Function('x')(time)\n",
    "positionFunction.func.is_real=True\n",
    "b=a.subs([(velocity.diff(position),positionFunction.diff(time,2)/positionFunction.diff(time)),(velocity,positionFunction.diff(time))])\n",
    "b"
   ]
  },
  {
   "cell_type": "code",
   "execution_count": 4,
   "metadata": {
    "collapsed": true
   },
   "outputs": [],
   "source": [
    "import io, os, sys, types\n",
    "from IPython import get_ipython\n",
    "from nbformat import read\n",
    "from IPython.core.interactiveshell import InteractiveShell\n",
    "def find_notebook(fullname, path=None):\n",
    "    \"\"\"find a notebook, given its fully qualified name and an optional path\n",
    "\n",
    "    This turns \"foo.bar\" into \"foo/bar.ipynb\"\n",
    "    and tries turning \"Foo_Bar\" into \"Foo Bar\" if Foo_Bar\n",
    "    does not exist.\n",
    "    \"\"\"\n",
    "    name = fullname.rsplit('.', 1)[-1]\n",
    "    if not path:\n",
    "        path = ['']\n",
    "    for d in path:\n",
    "        nb_path = os.path.join(d, name + \".ipynb\")\n",
    "        if os.path.isfile(nb_path):\n",
    "            return nb_path\n",
    "        # let import Notebook_Name find \"Notebook Name.ipynb\"\n",
    "        nb_path = nb_path.replace(\"_\", \" \")\n",
    "        if os.path.isfile(nb_path):\n",
    "            return nb_path\n",
    "\n",
    "class NotebookLoader(object):\n",
    "    \"\"\"Module Loader for Jupyter Notebooks\"\"\"\n",
    "    def __init__(self, path=None):\n",
    "        self.shell = InteractiveShell.instance()\n",
    "        self.path = path\n",
    "\n",
    "    def load_module(self, fullname):\n",
    "        \"\"\"import a notebook as a module\"\"\"\n",
    "        path = find_notebook(fullname, self.path)\n",
    "\n",
    "        print (\"importing Jupyter notebook from %s\" % path)\n",
    "\n",
    "        # load the notebook object\n",
    "        with io.open(path, 'r', encoding='utf-8') as f:\n",
    "            nb = read(f, 4)\n",
    "\n",
    "\n",
    "        # create the module and add it to sys.modules\n",
    "        # if name in sys.modules:\n",
    "        #    return sys.modules[name]\n",
    "        mod = types.ModuleType(fullname)\n",
    "        mod.__file__ = path\n",
    "        mod.__loader__ = self\n",
    "        mod.__dict__['get_ipython'] = get_ipython\n",
    "        sys.modules[fullname] = mod\n",
    "\n",
    "        # extra work to ensure that magics that would affect the user_ns\n",
    "        # actually affect the notebook module's ns\n",
    "        save_user_ns = self.shell.user_ns\n",
    "        self.shell.user_ns = mod.__dict__\n",
    "\n",
    "        try:\n",
    "          for cell in nb.cells:\n",
    "            if cell.cell_type == 'code':\n",
    "                # transform the input to executable Python\n",
    "                code = self.shell.input_transformer_manager.transform_cell(cell.source)\n",
    "                # run the code in themodule\n",
    "                exec(code, mod.__dict__)\n",
    "        finally:\n",
    "            self.shell.user_ns = save_user_ns\n",
    "        return mod\n",
    "\n",
    "class NotebookFinder(object):\n",
    "    \"\"\"Module finder that locates Jupyter Notebooks\"\"\"\n",
    "    def __init__(self):\n",
    "        self.loaders = {}\n",
    "\n",
    "    def find_module(self, fullname, path=None):\n",
    "        nb_path = find_notebook(fullname, path)\n",
    "        if not nb_path:\n",
    "            return\n",
    "\n",
    "        key = path\n",
    "        if path:\n",
    "            # lists aren't hashable\n",
    "            key = os.path.sep.join(path)\n",
    "\n",
    "        if key not in self.loaders:\n",
    "            self.loaders[key] = NotebookLoader(path)\n",
    "        return self.loaders[key]\n",
    "\n",
    "sys.meta_path.append(NotebookFinder())"
   ]
  },
  {
   "cell_type": "code",
   "execution_count": 5,
   "metadata": {
    "collapsed": false
   },
   "outputs": [
    {
     "name": "stdout",
     "output_type": "stream",
     "text": [
      "importing Jupyter notebook from trajectory.ipynb\n"
     ]
    },
    {
     "data": {
      "text/latex": [
       "$$\\frac{m}{\\hbar^{2}} \\sqrt{\\frac{j}{\\frac{d}{d t} x{\\left (t \\right )}}} \\left(\\imath \\hbar + 2 p_{1} \\frac{d}{d t} x{\\left (t \\right )}\\right) e^{\\frac{\\imath}{\\hbar} S{\\left (x \\right )}} \\frac{d}{d t} x{\\left (t \\right )}$$"
      ],
      "text/plain": [
       "                                           ⅈ⋅S(x)         \n",
       "        __________                         ──────         \n",
       "       ╱    j      ⎛            d       ⎞    h̅   d       \n",
       "m⋅    ╱  ──────── ⋅⎜ⅈ⋅h̅ + 2⋅p₁⋅──(x(t))⎟⋅ℯ      ⋅──(x(t))\n",
       "     ╱   d         ⎝            dt      ⎠         dt      \n",
       "    ╱    ──(x(t))                                         \n",
       "  ╲╱     dt                                               \n",
       "──────────────────────────────────────────────────────────\n",
       "                             2                            \n",
       "                           h̅                             "
      ]
     },
     "execution_count": 5,
     "metadata": {},
     "output_type": "execute_result"
    }
   ],
   "source": [
    "import trajectory\n",
    "b.subs(positionFunction.diff(time,2),trajectory.positionDerivatives[0]).expand().factor()"
   ]
  }
 ],
 "metadata": {
  "kernelspec": {
   "display_name": "Python 3",
   "language": "python",
   "name": "python3"
  },
  "language_info": {
   "codemirror_mode": {
    "name": "ipython",
    "version": 3
   },
   "file_extension": ".py",
   "mimetype": "text/x-python",
   "name": "python",
   "nbconvert_exporter": "python",
   "pygments_lexer": "ipython3",
   "version": "3.5.2"
  },
  "latex_envs": {
   "bibliofile": "biblio.bib",
   "cite_by": "apalike",
   "current_citInitial": 1,
   "eqLabelWithNumbers": true,
   "eqNumInitial": 0
  },
  "widgets": {
   "state": {},
   "version": "1.1.2"
  }
 },
 "nbformat": 4,
 "nbformat_minor": 0
}

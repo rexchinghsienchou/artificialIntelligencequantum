{
 "cells": [
  {
   "cell_type": "code",
   "execution_count": 1,
   "metadata": {
    "collapsed": false
   },
   "outputs": [
    {
     "data": {
      "text/latex": [
       "$$- \\frac{\\hbar^{2}}{2 m} \\frac{d^{2}}{d x^{2}}  \\Psi{\\left (x \\right )} + \\left(- E_\\text{eigen} + V{\\left (x \\right )}\\right) \\Psi{\\left (x \\right )} = 0$$"
      ],
      "text/plain": [
       "        2                                                \n",
       "    2  d                                                 \n",
       "  h̅ ⋅───(\\Psi(x))                                       \n",
       "        2                                                \n",
       "      dx                                                 \n",
       "- ──────────────── + (-E_\\text{eigen} + V(x))⋅\\Psi(x) = 0\n",
       "        2⋅m                                              "
      ]
     },
     "execution_count": 1,
     "metadata": {},
     "output_type": "execute_result"
    }
   ],
   "source": [
    "import sympy\n",
    "mass,hbar,energy=sympy.symbols('m,hbar,E_\\\\text{eigen}',positive=True)\n",
    "position=sympy.symbols('x',real=True)\n",
    "waveFunction,potential,action,density=map(lambda function:function(position),sympy.symbols('\\Psi,V,S,varrho',cls=sympy.Function))\n",
    "schrodinger=-hbar**2/2/mass*waveFunction.diff(position,2)+(potential-energy)*waveFunction\n",
    "sympy.Eq(schrodinger,0)"
   ]
  },
  {
   "cell_type": "code",
   "execution_count": 2,
   "metadata": {
    "collapsed": false
   },
   "outputs": [
    {
     "data": {
      "text/latex": [
       "$$- E_\\text{eigen} - \\frac{\\hbar^{2} \\frac{d^{2}}{d x^{2}}  \\sqrt{\\varrho{\\left (x \\right )}}}{2 m \\sqrt{\\varrho{\\left (x \\right )}}} + V{\\left (x \\right )} + \\frac{1}{2 m} \\frac{d}{d x} S{\\left (x \\right )}^{2}$$"
      ],
      "text/plain": [
       "                        2                                    \n",
       "                    2  d ⎛  ___________⎞                    2\n",
       "                  h̅ ⋅───⎝╲╱ varrho(x) ⎠          ⎛d       ⎞ \n",
       "                        2                         ⎜──(S(x))⎟ \n",
       "                      dx                          ⎝dx      ⎠ \n",
       "-E_\\text{eigen} - ────────────────────── + V(x) + ───────────\n",
       "                          ___________                 2⋅m    \n",
       "                    2⋅m⋅╲╱ varrho(x)                         "
      ]
     },
     "execution_count": 2,
     "metadata": {},
     "output_type": "execute_result"
    }
   ],
   "source": [
    "sqrtDensity=sympy.Function('sqrtDensity')(position)\n",
    "jacobi=sympy.use(sympy.expand(schrodinger.subs(waveFunction,sqrtDensity*sympy.exp(sympy.I*action/hbar)).doit()/sympy.exp(sympy.I*action/hbar)),\n",
    "                 lambda node:0 if node.has(sympy.I) else node/sqrtDensity,level=1).subs(sqrtDensity,sympy.sqrt(density))\n",
    "jacobi"
   ]
  },
  {
   "cell_type": "code",
   "execution_count": 3,
   "metadata": {
    "collapsed": false
   },
   "outputs": [
    {
     "data": {
      "text/latex": [
       "$$- E_\\text{eigen} - \\frac{\\hbar^{2}}{8 m v{\\left (x \\right )}} \\left(- 2 \\frac{d^{2}}{d x^{2}}  v{\\left (x \\right )} + \\frac{3 \\frac{d}{d x} v{\\left (x \\right )}^{2}}{v{\\left (x \\right )}}\\right) + \\frac{m}{2} v^{2}{\\left (x \\right )} + V{\\left (x \\right )}$$"
      ],
      "text/plain": [
       "                      ⎛                            2⎞                 \n",
       "                      ⎜                  ⎛d       ⎞ ⎟                 \n",
       "                      ⎜      2         3⋅⎜──(v(x))⎟ ⎟                 \n",
       "                    2 ⎜     d            ⎝dx      ⎠ ⎟                 \n",
       "                  h̅ ⋅⎜- 2⋅───(v(x)) + ─────────────⎟                 \n",
       "                      ⎜      2              v(x)    ⎟      2          \n",
       "                      ⎝    dx                       ⎠   m⋅v (x)       \n",
       "-E_\\text{eigen} - ─────────────────────────────────── + ─────── + V(x)\n",
       "                                8⋅m⋅v(x)                   2          "
      ]
     },
     "execution_count": 3,
     "metadata": {},
     "output_type": "execute_result"
    }
   ],
   "source": [
    "flux=sympy.symbols('j',real=True)\n",
    "velocity=sympy.Function('v')(position)\n",
    "jacobi=jacobi.subs(density,flux/velocity).subs(action.diff(position),velocity*mass).doit()\n",
    "jacobi"
   ]
  },
  {
   "cell_type": "code",
   "execution_count": 4,
   "metadata": {
    "collapsed": false
   },
   "outputs": [
    {
     "data": {
      "text/latex": [
       "$$- E_\\text{eigen} + \\frac{\\hbar^{2}}{m} \\left(\\frac{\\frac{d^{3}}{d t^{3}}  x{\\left (t \\right )}}{4 \\frac{d}{d t} x{\\left (t \\right )}^{3}} - \\frac{5 \\frac{d^{2}}{d t^{2}}  x{\\left (t \\right )}^{2}}{8 \\frac{d}{d t} x{\\left (t \\right )}^{4}}\\right) + \\frac{m}{2} \\frac{d}{d t} x{\\left (t \\right )}^{2} + V{\\left (x{\\left (t \\right )} \\right )}$$"
      ],
      "text/plain": [
       "                      ⎛                             2⎞                        \n",
       "                      ⎜    3             ⎛  2      ⎞ ⎟                        \n",
       "                      ⎜   d              ⎜ d       ⎟ ⎟                        \n",
       "                      ⎜  ───(x(t))     5⋅⎜───(x(t))⎟ ⎟                        \n",
       "                      ⎜    3             ⎜  2      ⎟ ⎟                        \n",
       "                    2 ⎜  dt              ⎝dt       ⎠ ⎟                        \n",
       "                  h̅ ⋅⎜───────────── - ──────────────⎟                        \n",
       "                      ⎜            3               4 ⎟               2        \n",
       "                      ⎜  ⎛d       ⎞      ⎛d       ⎞  ⎟     ⎛d       ⎞         \n",
       "                      ⎜4⋅⎜──(x(t))⎟    8⋅⎜──(x(t))⎟  ⎟   m⋅⎜──(x(t))⎟         \n",
       "                      ⎝  ⎝dt      ⎠      ⎝dt      ⎠  ⎠     ⎝dt      ⎠         \n",
       "-E_\\text{eigen} + ──────────────────────────────────── + ───────────── + V(x(t\n",
       "                                   m                           2              \n",
       "\n",
       "  \n",
       "  \n",
       "  \n",
       "  \n",
       "  \n",
       "  \n",
       "  \n",
       "  \n",
       "  \n",
       "  \n",
       "  \n",
       "))\n",
       "  "
      ]
     },
     "execution_count": 4,
     "metadata": {},
     "output_type": "execute_result"
    }
   ],
   "source": [
    "time=sympy.symbols('t',real=True)\n",
    "position=sympy.Function('x')(time)\n",
    "position.func.is_real=True\n",
    "def eulerLagrange(expr):\n",
    "    def eulerLagrange(expr):\n",
    "        derivative=position.diff(time)\n",
    "        if isinstance(expr,sympy.Derivative):\n",
    "            for order in range(1,len(expr.variables)+1):derivative=derivative.diff(time)/position.diff(time)\n",
    "        return derivative\n",
    "    import sys\n",
    "    if isinstance(expr,sympy.Derivative) or expr==velocity:return eulerLagrange(expr)\n",
    "    else:return expr.func(*map(sys.modules[__name__].eulerLagrange,expr.args)) if expr.args else expr\n",
    "jacobi=eulerLagrange(jacobi).expand().subs(potential,potential.func(position)).collect(hbar**2/mass)\n",
    "potential=potential.func(position)\n",
    "jacobi"
   ]
  },
  {
   "cell_type": "code",
   "execution_count": 5,
   "metadata": {
    "collapsed": false
   },
   "outputs": [
    {
     "data": {
      "text/latex": [
       "$$\\frac{\\hbar^{2}}{m} \\left(\\frac{\\frac{d^{3}}{d t^{3}}  x{\\left (t \\right )}}{4 \\frac{d}{d t} x{\\left (t \\right )}^{3}} - \\frac{5 \\frac{d^{2}}{d t^{2}}  x{\\left (t \\right )}^{2}}{8 \\frac{d}{d t} x{\\left (t \\right )}^{4}}\\right)$$"
      ],
      "text/plain": [
       "    ⎛                             2⎞\n",
       "    ⎜    3             ⎛  2      ⎞ ⎟\n",
       "    ⎜   d              ⎜ d       ⎟ ⎟\n",
       "    ⎜  ───(x(t))     5⋅⎜───(x(t))⎟ ⎟\n",
       "    ⎜    3             ⎜  2      ⎟ ⎟\n",
       "  2 ⎜  dt              ⎝dt       ⎠ ⎟\n",
       "h̅ ⋅⎜───────────── - ──────────────⎟\n",
       "    ⎜            3               4 ⎟\n",
       "    ⎜  ⎛d       ⎞      ⎛d       ⎞  ⎟\n",
       "    ⎜4⋅⎜──(x(t))⎟    8⋅⎜──(x(t))⎟  ⎟\n",
       "    ⎝  ⎝dt      ⎠      ⎝dt      ⎠  ⎠\n",
       "────────────────────────────────────\n",
       "                 m                  "
      ]
     },
     "execution_count": 5,
     "metadata": {},
     "output_type": "execute_result"
    }
   ],
   "source": [
    "quantum=sympy.use(jacobi,lambda node:node if node.has(position.diff(time,2)) or node.has(position.diff(time,3)) else 0,level=1)\n",
    "quantum"
   ]
  },
  {
   "cell_type": "code",
   "execution_count": 6,
   "metadata": {
    "collapsed": false
   },
   "outputs": [
    {
     "data": {
      "text/latex": [
       "$$- \\frac{\\hbar^{2}}{m} \\left(\\frac{\\frac{d^{3}}{d t^{3}}  x{\\left (t \\right )}}{4 \\frac{d}{d t} x{\\left (t \\right )}^{3}} - \\frac{5 \\frac{d^{2}}{d t^{2}}  x{\\left (t \\right )}^{2}}{8 \\frac{d}{d t} x{\\left (t \\right )}^{4}}\\right) + \\frac{m}{2} \\frac{d}{d t} x{\\left (t \\right )}^{2} - V{\\left (x{\\left (t \\right )} \\right )}$$"
      ],
      "text/plain": [
       "      ⎛                             2⎞                          \n",
       "      ⎜    3             ⎛  2      ⎞ ⎟                          \n",
       "      ⎜   d              ⎜ d       ⎟ ⎟                          \n",
       "      ⎜  ───(x(t))     5⋅⎜───(x(t))⎟ ⎟                          \n",
       "      ⎜    3             ⎜  2      ⎟ ⎟                          \n",
       "    2 ⎜  dt              ⎝dt       ⎠ ⎟                          \n",
       "  h̅ ⋅⎜───────────── - ──────────────⎟                          \n",
       "      ⎜            3               4 ⎟               2          \n",
       "      ⎜  ⎛d       ⎞      ⎛d       ⎞  ⎟     ⎛d       ⎞           \n",
       "      ⎜4⋅⎜──(x(t))⎟    8⋅⎜──(x(t))⎟  ⎟   m⋅⎜──(x(t))⎟           \n",
       "      ⎝  ⎝dt      ⎠      ⎝dt      ⎠  ⎠     ⎝dt      ⎠           \n",
       "- ──────────────────────────────────── + ───────────── - V(x(t))\n",
       "                   m                           2                "
      ]
     },
     "execution_count": 6,
     "metadata": {},
     "output_type": "execute_result"
    }
   ],
   "source": [
    "lagrange=mass/2*position.diff(time)**2-potential-quantum\n",
    "lagrange"
   ]
  },
  {
   "cell_type": "code",
   "execution_count": 7,
   "metadata": {
    "collapsed": false
   },
   "outputs": [
    {
     "data": {
      "text/latex": [
       "$$- \\frac{\\hbar^{2} \\frac{d^{4}}{d t^{4}}  x{\\left (t \\right )}}{4 m \\frac{d}{d t} x{\\left (t \\right )}^{4}} + \\frac{2 \\hbar^{2} \\frac{d^{2}}{d t^{2}}  x{\\left (t \\right )} \\frac{d^{3}}{d t^{3}}  x{\\left (t \\right )}}{m \\frac{d}{d t} x{\\left (t \\right )}^{5}} - \\frac{5 \\hbar^{2} \\frac{d^{2}}{d t^{2}}  x{\\left (t \\right )}^{3}}{2 m \\frac{d}{d t} x{\\left (t \\right )}^{6}} - m \\frac{d^{2}}{d t^{2}}  x{\\left (t \\right )} - \\frac{d}{d x{\\left (t \\right )}} V{\\left (x{\\left (t \\right )} \\right )} = 0$$"
      ],
      "text/plain": [
       "                                                                 3            \n",
       "         4                  2         3               ⎛  2      ⎞             \n",
       "     2  d               2  d         d              2 ⎜ d       ⎟             \n",
       "   h̅ ⋅───(x(t))    2⋅h̅ ⋅───(x(t))⋅───(x(t))   5⋅h̅ ⋅⎜───(x(t))⎟             \n",
       "         4                  2         3               ⎜  2      ⎟        2    \n",
       "       dt                 dt        dt                ⎝dt       ⎠       d     \n",
       "- ─────────────── + ───────────────────────── - ────────────────── - m⋅───(x(t\n",
       "                4                     5                        6         2    \n",
       "      ⎛d       ⎞            ⎛d       ⎞               ⎛d       ⎞        dt     \n",
       "  4⋅m⋅⎜──(x(t))⎟          m⋅⎜──(x(t))⎟           2⋅m⋅⎜──(x(t))⎟               \n",
       "      ⎝dt      ⎠            ⎝dt      ⎠               ⎝dt      ⎠               \n",
       "\n",
       "                       \n",
       "                       \n",
       "                       \n",
       "                       \n",
       "                       \n",
       "       d               \n",
       ")) - ─────(V(x(t))) = 0\n",
       "     dx(t)             \n",
       "                       \n",
       "                       \n",
       "                       "
      ]
     },
     "execution_count": 7,
     "metadata": {},
     "output_type": "execute_result"
    }
   ],
   "source": [
    "motion=sympy.euler_equations(lagrange,position)[0].expand()\n",
    "motion"
   ]
  },
  {
   "cell_type": "code",
   "execution_count": 8,
   "metadata": {
    "collapsed": false
   },
   "outputs": [
    {
     "data": {
      "text/latex": [
       "$$\\frac{\\hbar^{2} \\frac{d^{2}}{d t^{2}}  x{\\left (t \\right )}}{4 m \\frac{d}{d t} x{\\left (t \\right )}^{3}}$$"
      ],
      "text/plain": [
       "       2       \n",
       "   2  d        \n",
       " h̅ ⋅───(x(t)) \n",
       "       2       \n",
       "     dt        \n",
       "───────────────\n",
       "              3\n",
       "    ⎛d       ⎞ \n",
       "4⋅m⋅⎜──(x(t))⎟ \n",
       "    ⎝dt      ⎠ "
      ]
     },
     "execution_count": 8,
     "metadata": {},
     "output_type": "execute_result"
    }
   ],
   "source": [
    "gauge=hbar**2*position.diff(time,2)/4/mass/position.diff(time)**3\n",
    "gauge"
   ]
  },
  {
   "cell_type": "code",
   "execution_count": 9,
   "metadata": {
    "collapsed": false
   },
   "outputs": [
    {
     "data": {
      "text/latex": [
       "$$- \\frac{\\hbar^{2} \\frac{d^{2}}{d t^{2}}  x{\\left (t \\right )}^{2}}{8 m \\frac{d}{d t} x{\\left (t \\right )}^{4}} + \\frac{m}{2} \\frac{d}{d t} x{\\left (t \\right )}^{2} - V{\\left (x{\\left (t \\right )} \\right )}$$"
      ],
      "text/plain": [
       "                 2                          \n",
       "      ⎛  2      ⎞                           \n",
       "    2 ⎜ d       ⎟                2          \n",
       "  h̅ ⋅⎜───(x(t))⎟      ⎛d       ⎞           \n",
       "      ⎜  2      ⎟    m⋅⎜──(x(t))⎟           \n",
       "      ⎝dt       ⎠      ⎝dt      ⎠           \n",
       "- ──────────────── + ───────────── - V(x(t))\n",
       "                4          2                \n",
       "      ⎛d       ⎞                            \n",
       "  8⋅m⋅⎜──(x(t))⎟                            \n",
       "      ⎝dt      ⎠                            "
      ]
     },
     "execution_count": 9,
     "metadata": {},
     "output_type": "execute_result"
    }
   ],
   "source": [
    "lagrange+=gauge.diff(time)\n",
    "lagrange=lagrange.expand()\n",
    "lagrange"
   ]
  },
  {
   "cell_type": "code",
   "execution_count": 10,
   "metadata": {
    "collapsed": false
   },
   "outputs": [],
   "source": [
    "assert(not sympy.simplify(sympy.euler_equations(lagrange,position)[0].expand()-motion))"
   ]
  },
  {
   "cell_type": "code",
   "execution_count": 11,
   "metadata": {
    "collapsed": false
   },
   "outputs": [
    {
     "data": {
      "text/latex": [
       "$$\\left [ \\frac{\\hbar^{2}}{m} \\left(\\frac{\\frac{d^{3}}{d t^{3}}  x{\\left (t \\right )}}{4 \\frac{d}{d t} x{\\left (t \\right )}^{4}} - \\frac{\\frac{d^{2}}{d t^{2}}  x{\\left (t \\right )}^{2}}{2 \\frac{d}{d t} x{\\left (t \\right )}^{5}}\\right) + m \\frac{d}{d t} x{\\left (t \\right )}, \\quad - \\frac{\\hbar^{2} \\frac{d^{2}}{d t^{2}}  x{\\left (t \\right )}}{4 m \\frac{d}{d t} x{\\left (t \\right )}^{4}}\\right ]$$"
      ],
      "text/plain": [
       "⎡    ⎛                            2⎞                              ⎤\n",
       "⎢    ⎜    3            ⎛  2      ⎞ ⎟                              ⎥\n",
       "⎢    ⎜   d             ⎜ d       ⎟ ⎟                              ⎥\n",
       "⎢    ⎜  ───(x(t))      ⎜───(x(t))⎟ ⎟                              ⎥\n",
       "⎢    ⎜    3            ⎜  2      ⎟ ⎟                              ⎥\n",
       "⎢  2 ⎜  dt             ⎝dt       ⎠ ⎟                              ⎥\n",
       "⎢h̅ ⋅⎜───────────── - ─────────────⎟                      2       ⎥\n",
       "⎢    ⎜            4               5⎟                  2  d        ⎥\n",
       "⎢    ⎜  ⎛d       ⎞      ⎛d       ⎞ ⎟               -h̅ ⋅───(x(t)) ⎥\n",
       "⎢    ⎜4⋅⎜──(x(t))⎟    2⋅⎜──(x(t))⎟ ⎟                      2       ⎥\n",
       "⎢    ⎝  ⎝dt      ⎠      ⎝dt      ⎠ ⎠     d              dt        ⎥\n",
       "⎢─────────────────────────────────── + m⋅──(x(t)), ───────────────⎥\n",
       "⎢                 m                      dt                      4⎥\n",
       "⎢                                                      ⎛d       ⎞ ⎥\n",
       "⎢                                                  4⋅m⋅⎜──(x(t))⎟ ⎥\n",
       "⎣                                                      ⎝dt      ⎠ ⎦"
      ]
     },
     "execution_count": 11,
     "metadata": {},
     "output_type": "execute_result"
    }
   ],
   "source": [
    "momentums=([sum(map(lambda derivative:(-1)**derivative*lagrange.diff(position.diff(time,derivative+1)).diff(time,derivative),range(0,2))).expand().collect(hbar**2/mass)]\n",
    "           +[lagrange.diff(position.diff(time,2))])\n",
    "momentums"
   ]
  },
  {
   "cell_type": "code",
   "execution_count": 12,
   "metadata": {
    "collapsed": false
   },
   "outputs": [
    {
     "data": {
      "text/latex": [
       "$$\\left [ - \\frac{4 p_{1}}{\\hbar^{2}} m \\frac{d}{d t} x{\\left (t \\right )}^{4}, \\quad \\frac{4 m}{\\hbar^{4}} \\left(\\hbar^{2} \\left(- m \\frac{d}{d t} x{\\left (t \\right )} + p\\right) + 8 m p_{1}^{2} \\frac{d}{d t} x{\\left (t \\right )}^{3}\\right) \\frac{d}{d t} x{\\left (t \\right )}^{4}\\right ]$$"
      ],
      "text/plain": [
       "⎡                  4       ⎛                                           3⎞     \n",
       "⎢        ⎛d       ⎞        ⎜  2 ⎛    d           ⎞         2 ⎛d       ⎞ ⎟ ⎛d  \n",
       "⎢-4⋅m⋅p₁⋅⎜──(x(t))⎟    4⋅m⋅⎜h̅ ⋅⎜- m⋅──(x(t)) + p⎟ + 8⋅m⋅p₁ ⋅⎜──(x(t))⎟ ⎟⋅⎜──(\n",
       "⎢        ⎝dt      ⎠        ⎝    ⎝    dt          ⎠           ⎝dt      ⎠ ⎠ ⎝dt \n",
       "⎢────────────────────, ───────────────────────────────────────────────────────\n",
       "⎢          2                                          4                       \n",
       "⎣        h̅                                         h̅                        \n",
       "\n",
       "      4⎤\n",
       "     ⎞ ⎥\n",
       "x(t))⎟ ⎥\n",
       "     ⎠ ⎥\n",
       "───────⎥\n",
       "       ⎥\n",
       "       ⎦"
      ]
     },
     "execution_count": 12,
     "metadata": {},
     "output_type": "execute_result"
    }
   ],
   "source": [
    "Momentums=sympy.symbols('p,p1',real=True)\n",
    "positionDerivatives=sympy.solve(momentums[1]-Momentums[1],position.diff(time,2))\n",
    "positionDerivatives.extend(sympy.solve(momentums[0].replace(position.diff(time,2),positionDerivatives[0])-Momentums[0],position.diff(time,3)))\n",
    "positionDerivatives"
   ]
  },
  {
   "cell_type": "code",
   "execution_count": 13,
   "metadata": {
    "collapsed": false
   },
   "outputs": [
    {
     "data": {
      "text/latex": [
       "$$- \\frac{m}{2} \\frac{d}{d t} x{\\left (t \\right )}^{2} + p \\frac{d}{d t} x{\\left (t \\right )} + V{\\left (x{\\left (t \\right )} \\right )} - \\frac{2 m}{\\hbar^{2}} p_{1}^{2} \\frac{d}{d t} x{\\left (t \\right )}^{4}$$"
      ],
      "text/plain": [
       "              2                                            4\n",
       "    ⎛d       ⎞                                 2 ⎛d       ⎞ \n",
       "  m⋅⎜──(x(t))⎟                           2⋅m⋅p₁ ⋅⎜──(x(t))⎟ \n",
       "    ⎝dt      ⎠      d                            ⎝dt      ⎠ \n",
       "- ───────────── + p⋅──(x(t)) + V(x(t)) - ───────────────────\n",
       "        2           dt                             2        \n",
       "                                                 h̅         "
      ]
     },
     "execution_count": 13,
     "metadata": {},
     "output_type": "execute_result"
    }
   ],
   "source": [
    "hamiltonian=sympy.expand(sum(map(lambda element:momentums[element]*position.diff(time,element+1),range(0,len(momentums))))-lagrange)\n",
    "def replace(expr):\n",
    "    return (expr.subs(hbar,1).subs(mass,sympy.symbols('this->ReactionCoordinate.Mass'))\n",
    "            .subs(map(lambda derivative:(position.diff(time,derivative),sympy.symbols('Function.at('+str(derivative)+')')),range(3,0,-1))))\n",
    "print('''#include\"lagrange.h\"\n",
    "std::vector<double>trajectory::Lagrange_::Derivative(std::vector<double>const&Function)const&\n",
    "{\n",
    "  std::vector<double>derivative(4);\n",
    "  std::copy(Function.cbegin()+1,Function.cend(),derivative.begin());\n",
    "  derivative.at(3)='''+sympy.ccode(replace(sympy.solve(motion,position.diff(time,4))[0])\n",
    "                                   .subs(potential.diff(position).doit(),sympy.symbols('this->ReactionCoordinate.Derivative(Function.front()\\,*(Function.cend()-2))')))+''';\n",
    "  return derivative;\n",
    "}\n",
    "\n",
    "double trajectory::Lagrange_::Energy()const&noexcept\n",
    "{\n",
    "  auto const Trajectory(this->Get());\n",
    "  return '''+sympy.ccode(replace(hamiltonian).subs(potential,0)).replace('Function','Trajectory')+''';\n",
    "}\n",
    "\n",
    "double trajectory::Lagrange_::Momentum()const&noexcept\n",
    "{\n",
    "  auto const Trajectory(this->Get());\n",
    "  return '''+sympy.ccode(replace(momentums[0])).replace('Function','Trajectory')+''';\n",
    "}''',file=open('lagrangeDerivative.cpp','w'))\n",
    "hamiltonian=hamiltonian.subs(map(lambda derivative:(position.diff(time,derivative),positionDerivatives[derivative-2]),range(3,1,-1))).expand()\n",
    "hamiltonian"
   ]
  },
  {
   "cell_type": "code",
   "execution_count": 14,
   "metadata": {
    "collapsed": false,
    "variables": {
     "sympy.latex(hamiltonian)": "- \\frac{m}{2} \\frac{d}{d t} x{\\left (t \\right )}^{2} + p \\frac{d}{d t} x{\\left (t \\right )} + V{\\left (x{\\left (t \\right )} \\right )} - \\frac{2 m}{\\hbar^{2}} p_{1}^{2} \\frac{d}{d t} x{\\left (t \\right )}^{4}"
    }
   },
   "outputs": [
    {
     "data": {
      "text/latex": [
       "\n",
       "\\begin{equation}\n",
       "\\left\\{\\begin{array}{l}\n",
       "\\dfrac{dx}{dt}=\\dfrac{\\partial\\mathscr{H}}{\\partial p}\\\\\n",
       "\\dfrac{dp}{dt}=-\\dfrac{\\partial\\mathscr{H}}{\\partial x}=- \\dfrac{d}{d x{\\left (t \\right )}} V{\\left (x{\\left (t \\right )} \\right )}\n",
       "\\end{array}\\right.\n",
       "\\left\\{\\begin{array}{l}\n",
       "\\dfrac{d^2x}{dt^2}=\\dfrac{\\partial\\mathscr{H}}{\\partial p_1}=- \\dfrac{4 p_{1}}{\\hbar^{2}} m \\dfrac{d}{d t} x{\\left (t \\right )}^{4}\\\\\n",
       "\\dfrac{dp_1}{dt}=-\\dfrac{\\partial\\mathscr{H}}{\\partial\\tfrac{dx}{dt}}=m \\dfrac{d}{d t} x{\\left (t \\right )} - p + \\dfrac{8 m}{\\hbar^{2}} p_{1}^{2} \\dfrac{d}{d t} x{\\left (t \\right )}^{3}\n",
       "\\end{array}\\right.\n",
       "\\end{equation}"
      ],
      "text/plain": [
       "<IPython.core.display.Latex object>"
      ]
     },
     "execution_count": 14,
     "metadata": {},
     "output_type": "execute_result"
    }
   ],
   "source": [
    "import IPython.display\n",
    "IPython.display.Latex(r'''\n",
    "\\begin{equation}\n",
    "\\left\\{\\begin{array}{l}\n",
    "\\dfrac{dx}{dt}=\\dfrac{\\partial\\mathscr{H}}{\\partial p}\\\\\n",
    "\\dfrac{dp}{dt}=-\\dfrac{\\partial\\mathscr{H}}{\\partial x}='''+sympy.latex(-hamiltonian.diff(position).doit()).replace('frac','dfrac')+r'''\n",
    "\\end{array}\\right.\n",
    "\\left\\{\\begin{array}{l}\n",
    "\\dfrac{d^2x}{dt^2}=\\dfrac{\\partial\\mathscr{H}}{\\partial p_1}='''+sympy.latex(hamiltonian.diff(Momentums[1])).replace('frac','dfrac')+r'''\\\\\n",
    "\\dfrac{dp_1}{dt}=-\\dfrac{\\partial\\mathscr{H}}{\\partial\\tfrac{dx}{dt}}='''+sympy.latex(-hamiltonian.diff(position.diff(time))).replace('frac','dfrac')+r'''\n",
    "\\end{array}\\right.\n",
    "\\end{equation}''')"
   ]
  },
  {
   "cell_type": "code",
   "execution_count": 15,
   "metadata": {
    "collapsed": true
   },
   "outputs": [],
   "source": [
    "assert(not position.diff(time)-hamiltonian.diff(Momentums[0]))\n",
    "assert(not sympy.expand(momentums[0].diff(time)+hamiltonian.diff(position).doit()+motion.lhs))\n",
    "assert(not sympy.Subs(position.diff(time,2)-hamiltonian.diff(Momentums[1]),Momentums[1],momentums[1]).doit())\n",
    "assert(not (momentums[1].diff(time)+hamiltonian.diff(position.diff(time))).subs(zip(Momentums,momentums)).expand())\n",
    "def replace(hamiltonian):\n",
    "    return (hamiltonian.subs(hbar,1).subs(mass,sympy.symbols('this->ReactionCoordinate.Mass')).subs(position.diff(time),sympy.symbols('Function.at(2)'))\n",
    "            .subs(Momentums[1],sympy.symbols('Function.at(3)')))\n",
    "print('''#include\"hamilton.h\"\n",
    "std::vector<double>trajectory::Hamilton_::Derivative(std::vector<double>const&Function)const&\n",
    "{\n",
    "  std::vector<double>derivative(4);\n",
    "  derivative.at(0)=Function.at(2);\n",
    "  derivative.at(1)=-this->ReactionCoordinate.Derivative(Function.front(),*(Function.cend()-2));\n",
    "  derivative.at(2)='''+sympy.ccode(replace(hamiltonian.diff(Momentums[1])))+''';\n",
    "  derivative.at(3)='''+sympy.ccode(replace(-hamiltonian.diff(position.diff(time))).subs(Momentums[0],sympy.symbols('Function.at(1)')))+''';\n",
    "  return derivative;\n",
    "}\n",
    "\n",
    "double trajectory::Hamilton_::Energy()const&noexcept\n",
    "{\n",
    "  auto const Trajectory(this->Get());\n",
    "  return '''+sympy.ccode(replace(hamiltonian).subs(Momentums[0],sympy.symbols('Function.at(1)')).subs(potential,0)).replace('Function','Trajectory')+''';\n",
    "}\n",
    "\n",
    "double trajectory::Hamilton_::Acceleration()const&noexcept\n",
    "{\n",
    "  auto const Trajectory(this->Get());\n",
    "  return '''+sympy.ccode(replace(hamiltonian.diff(Momentums[1]))).replace('Function','Trajectory')+''';\n",
    "}''',file=open('hamiltonDerivative.cpp','w'))"
   ]
  },
  {
   "cell_type": "code",
   "execution_count": 16,
   "metadata": {
    "collapsed": false
   },
   "outputs": [
    {
     "data": {
      "text/latex": [
       "$$T e^{\\frac{\\sqrt{2} \\imath}{\\hbar} \\sqrt{E_\\text{eigen}-V_\\mathscr{P}} \\sqrt{m} x{\\left (t \\right )}}$$"
      ],
      "text/plain": [
       "          ______________________________        \n",
       "   √2⋅ⅈ⋅╲╱ E_\\text{eigen}-V_\\mathscr{P} ⋅√m⋅x(t)\n",
       "   ─────────────────────────────────────────────\n",
       "                         h̅                     \n",
       "T⋅ℯ                                             "
      ]
     },
     "execution_count": 16,
     "metadata": {},
     "output_type": "execute_result"
    }
   ],
   "source": [
    "monochrome=sympy.exp(sympy.I*sympy.sqrt(2*mass*energy)/hbar*position)\n",
    "def velocity(waveFunction):return sympy.trigsimp(sympy.im(waveFunction.diff(position)/waveFunction)*hbar/mass)\n",
    "reflection,transmission=sympy.symbols('R,T')\n",
    "product=transmission*monochrome\n",
    "product.subs(energy,sympy.symbols('E_\\\\text{eigen}-V_\\mathscr{P}'))"
   ]
  },
  {
   "cell_type": "code",
   "execution_count": 17,
   "metadata": {
    "collapsed": false
   },
   "outputs": [
    {
     "data": {
      "text/latex": [
       "$$\\frac{\\sqrt{2} \\sqrt{E_\\text{eigen}-V_\\mathscr{P}}}{\\sqrt{m}}$$"
      ],
      "text/plain": [
       "     ______________________________\n",
       "√2⋅╲╱ E_\\text{eigen}-V_\\mathscr{P} \n",
       "───────────────────────────────────\n",
       "                 √m                "
      ]
     },
     "execution_count": 17,
     "metadata": {},
     "output_type": "execute_result"
    }
   ],
   "source": [
    "velocity(product).subs(energy,sympy.symbols('E_\\\\text{eigen}-V_\\mathscr{P}'))"
   ]
  },
  {
   "cell_type": "code",
   "execution_count": 18,
   "metadata": {
    "collapsed": false
   },
   "outputs": [
    {
     "data": {
      "text/latex": [
       "$$e^{\\frac{\\sqrt{2} \\imath}{\\hbar} \\sqrt{E_\\text{eigen}-V_\\mathscr{R}} \\sqrt{m} x{\\left (t \\right )}} + e^{- \\frac{\\sqrt{2} \\imath}{\\hbar} \\sqrt{E_\\text{eigen}-V_\\mathscr{R}} \\sqrt{m} x{\\left (t \\right )} + \\imath \\arg{\\left (R \\right )}} \\left|{R}\\right|$$"
      ],
      "text/plain": [
       "        ______________________________                     ___________________\n",
       " √2⋅ⅈ⋅╲╱ E_\\text{eigen}-V_\\mathscr{R} ⋅√m⋅x(t)      √2⋅ⅈ⋅╲╱ E_\\text{eigen}-V_\\\n",
       " ─────────────────────────────────────────────    - ──────────────────────────\n",
       "                       h̅                                                 h̅  \n",
       "ℯ                                              + ℯ                            \n",
       "\n",
       "___________                       \n",
       "mathscr{R} ⋅√m⋅x(t)               \n",
       "─────────────────── + ⅈ⋅arg(R)    \n",
       "                                  \n",
       "                              ⋅│R│"
      ]
     },
     "execution_count": 18,
     "metadata": {},
     "output_type": "execute_result"
    }
   ],
   "source": [
    "reflection=sympy.Abs(reflection)*sympy.exp(sympy.I*sympy.arg(reflection))\n",
    "reactant=sympy.powsimp(monochrome+reflection*sympy.conjugate(monochrome))\n",
    "reactant.subs(energy,sympy.symbols('E_\\\\text{eigen}-V_\\mathscr{R}'))"
   ]
  },
  {
   "cell_type": "code",
   "execution_count": 19,
   "metadata": {
    "collapsed": false
   },
   "outputs": [
    {
     "data": {
      "text/latex": [
       "$$\\frac{\\sqrt{2} \\sqrt{E_\\text{eigen}-V_\\mathscr{R}} \\left(- \\left|{R}\\right|^{2} + 1\\right)}{\\sqrt{m} \\left(2 \\cos{\\left (\\frac{2 \\sqrt{2}}{\\hbar} \\sqrt{E_\\text{eigen}-V_\\mathscr{R}} \\sqrt{m} x{\\left (t \\right )} - \\arg{\\left (R \\right )} \\right )} \\left|{R}\\right| + \\left|{R}\\right|^{2} + 1\\right)}$$"
      ],
      "text/plain": [
       "                      ______________________________ ⎛     2    ⎞             \n",
       "                 √2⋅╲╱ E_\\text{eigen}-V_\\mathscr{R} ⋅⎝- │R│  + 1⎠             \n",
       "──────────────────────────────────────────────────────────────────────────────\n",
       "   ⎛     ⎛       ______________________________                 ⎞             \n",
       "   ⎜     ⎜2⋅√2⋅╲╱ E_\\text{eigen}-V_\\mathscr{R} ⋅√m⋅x(t)         ⎟          2  \n",
       "√m⋅⎜2⋅cos⎜───────────────────────────────────────────── - arg(R)⎟⋅│R│ + │R│  +\n",
       "   ⎝     ⎝                      h̅                              ⎠             \n",
       "\n",
       "   \n",
       "   \n",
       "───\n",
       "  ⎞\n",
       "  ⎟\n",
       " 1⎟\n",
       "  ⎠"
      ]
     },
     "execution_count": 19,
     "metadata": {},
     "output_type": "execute_result"
    }
   ],
   "source": [
    "rectantVelocity=velocity(reactant)\n",
    "rectantVelocity.subs(energy,sympy.symbols('E_\\\\text{eigen}-V_\\mathscr{R}'))"
   ]
  },
  {
   "cell_type": "markdown",
   "metadata": {},
   "source": [
    "\\begin{equation}\n",
    "\\dfrac{d^2x}{dt^2}=\\dfrac{d}{dt}\\dfrac{dx}{dt}=\\dfrac{dx}{dt}\\dfrac{d}{dx}\\dfrac{dx}{dt}\n",
    "\\end{equation}"
   ]
  },
  {
   "cell_type": "code",
   "execution_count": 20,
   "metadata": {
    "collapsed": false
   },
   "outputs": [
    {
     "data": {
      "text/latex": [
       "$$- \\frac{\\sqrt{2} \\sqrt{E_\\text{eigen}-V_\\mathscr{R}} \\sqrt{m} \\left(\\left|{R}\\right|^{2} + 1\\right)}{\\left|{R}\\right|^{2} - 1}$$"
      ],
      "text/plain": [
       "      ______________________________    ⎛   2    ⎞ \n",
       "-√2⋅╲╱ E_\\text{eigen}-V_\\mathscr{R} ⋅√m⋅⎝│R│  + 1⎠ \n",
       "───────────────────────────────────────────────────\n",
       "                         2                         \n",
       "                      │R│  - 1                     "
      ]
     },
     "execution_count": 20,
     "metadata": {},
     "output_type": "execute_result"
    }
   ],
   "source": [
    "momentum=momentums[0]\n",
    "for _ in range(0,3):momentum=momentum.subs(position.diff(time),rectantVelocity).doit()\n",
    "momentum=momentum.trigsimp()\n",
    "momentum.subs(energy,sympy.symbols('E_\\\\text{eigen}-V_\\mathscr{R}'))"
   ]
  },
  {
   "cell_type": "code",
   "execution_count": 21,
   "metadata": {
    "collapsed": false
   },
   "outputs": [
    {
     "data": {
      "text/latex": [
       "$$\\frac{2 \\sqrt{2} \\sqrt{E_\\text{eigen}-V_\\mathscr{R}} \\sqrt{m}}{\\sqrt{2} \\sqrt{E_\\text{eigen}-V_\\mathscr{R}} \\sqrt{m} + p}$$"
      ],
      "text/plain": [
       "        ______________________________    \n",
       " 2⋅√2⋅╲╱ E_\\text{eigen}-V_\\mathscr{R} ⋅√m \n",
       "──────────────────────────────────────────\n",
       "     ______________________________       \n",
       "√2⋅╲╱ E_\\text{eigen}-V_\\mathscr{R} ⋅√m + p"
      ]
     },
     "execution_count": 21,
     "metadata": {},
     "output_type": "execute_result"
    }
   ],
   "source": [
    "probability=sympy.symbols('|T|^2',real=True)\n",
    "momentum=momentum.subs(sympy.Abs(reflection)**2,1-probability)\n",
    "sympy.solveset(momentum-Momentums[0],probability,sympy.S.Reals).args[0].inf.subs(energy,sympy.symbols('E_\\\\text{eigen}-V_\\mathscr{R}'))"
   ]
  }
 ],
 "metadata": {
  "kernelspec": {
   "display_name": "Python 3",
   "language": "python",
   "name": "python3"
  },
  "language_info": {
   "codemirror_mode": {
    "name": "ipython",
    "version": 3
   },
   "file_extension": ".py",
   "mimetype": "text/x-python",
   "name": "python",
   "nbconvert_exporter": "python",
   "pygments_lexer": "ipython3",
   "version": "3.5.2"
  },
  "widgets": {
   "state": {},
   "version": "1.1.2"
  }
 },
 "nbformat": 4,
 "nbformat_minor": 0
}
